{
 "cells": [
  {
   "cell_type": "code",
   "execution_count": 1,
   "id": "63567d10",
   "metadata": {},
   "outputs": [],
   "source": [
    "import pandas as pd\n",
    "import numpy as np\n",
    "import matplotlib.pyplot as plt\n",
    "import seaborn as sns\n",
    "from sklearn.preprocessing import LabelEncoder\n",
    "from sklearn.utils import resample\n",
    "from sklearn.metrics import roc_auc_score,precision_recall_curve,roc_curve\n",
    "from sklearn.model_selection import train_test_split\n",
    "from sklearn.linear_model import LogisticRegression\n",
    "from sklearn.manifold import TSNE\n",
    "from sklearn.decomposition import PCA, TruncatedSVD\n",
    "import time\n",
    "import matplotlib.patches as mpatches\n",
    "from sklearn.metrics import confusion_matrix\n",
    "import warnings\n",
    "warnings.filterwarnings('ignore')"
   ]
  },
  {
   "cell_type": "code",
   "execution_count": 2,
   "id": "68f0b711",
   "metadata": {},
   "outputs": [
    {
     "data": {
      "text/html": [
       "<div>\n",
       "<style scoped>\n",
       "    .dataframe tbody tr th:only-of-type {\n",
       "        vertical-align: middle;\n",
       "    }\n",
       "\n",
       "    .dataframe tbody tr th {\n",
       "        vertical-align: top;\n",
       "    }\n",
       "\n",
       "    .dataframe thead th {\n",
       "        text-align: right;\n",
       "    }\n",
       "</style>\n",
       "<table border=\"1\" class=\"dataframe\">\n",
       "  <thead>\n",
       "    <tr style=\"text-align: right;\">\n",
       "      <th></th>\n",
       "      <th>TransactionID</th>\n",
       "      <th>isFraud</th>\n",
       "      <th>TransactionDT</th>\n",
       "      <th>TransactionAmt</th>\n",
       "      <th>ProductCD</th>\n",
       "      <th>card1</th>\n",
       "      <th>card2</th>\n",
       "      <th>card3</th>\n",
       "      <th>card4</th>\n",
       "      <th>card5</th>\n",
       "      <th>...</th>\n",
       "      <th>id_31</th>\n",
       "      <th>id_32</th>\n",
       "      <th>id_33</th>\n",
       "      <th>id_34</th>\n",
       "      <th>id_35</th>\n",
       "      <th>id_36</th>\n",
       "      <th>id_37</th>\n",
       "      <th>id_38</th>\n",
       "      <th>DeviceType</th>\n",
       "      <th>DeviceInfo</th>\n",
       "    </tr>\n",
       "  </thead>\n",
       "  <tbody>\n",
       "    <tr>\n",
       "      <th>0</th>\n",
       "      <td>2987000</td>\n",
       "      <td>0</td>\n",
       "      <td>86400</td>\n",
       "      <td>68.5</td>\n",
       "      <td>W</td>\n",
       "      <td>13926</td>\n",
       "      <td>NaN</td>\n",
       "      <td>150.0</td>\n",
       "      <td>discover</td>\n",
       "      <td>142.0</td>\n",
       "      <td>...</td>\n",
       "      <td>NaN</td>\n",
       "      <td>NaN</td>\n",
       "      <td>NaN</td>\n",
       "      <td>NaN</td>\n",
       "      <td>NaN</td>\n",
       "      <td>NaN</td>\n",
       "      <td>NaN</td>\n",
       "      <td>NaN</td>\n",
       "      <td>NaN</td>\n",
       "      <td>NaN</td>\n",
       "    </tr>\n",
       "    <tr>\n",
       "      <th>1</th>\n",
       "      <td>2987001</td>\n",
       "      <td>0</td>\n",
       "      <td>86401</td>\n",
       "      <td>29.0</td>\n",
       "      <td>W</td>\n",
       "      <td>2755</td>\n",
       "      <td>404.0</td>\n",
       "      <td>150.0</td>\n",
       "      <td>mastercard</td>\n",
       "      <td>102.0</td>\n",
       "      <td>...</td>\n",
       "      <td>NaN</td>\n",
       "      <td>NaN</td>\n",
       "      <td>NaN</td>\n",
       "      <td>NaN</td>\n",
       "      <td>NaN</td>\n",
       "      <td>NaN</td>\n",
       "      <td>NaN</td>\n",
       "      <td>NaN</td>\n",
       "      <td>NaN</td>\n",
       "      <td>NaN</td>\n",
       "    </tr>\n",
       "    <tr>\n",
       "      <th>2</th>\n",
       "      <td>2987002</td>\n",
       "      <td>0</td>\n",
       "      <td>86469</td>\n",
       "      <td>59.0</td>\n",
       "      <td>W</td>\n",
       "      <td>4663</td>\n",
       "      <td>490.0</td>\n",
       "      <td>150.0</td>\n",
       "      <td>visa</td>\n",
       "      <td>166.0</td>\n",
       "      <td>...</td>\n",
       "      <td>NaN</td>\n",
       "      <td>NaN</td>\n",
       "      <td>NaN</td>\n",
       "      <td>NaN</td>\n",
       "      <td>NaN</td>\n",
       "      <td>NaN</td>\n",
       "      <td>NaN</td>\n",
       "      <td>NaN</td>\n",
       "      <td>NaN</td>\n",
       "      <td>NaN</td>\n",
       "    </tr>\n",
       "    <tr>\n",
       "      <th>3</th>\n",
       "      <td>2987003</td>\n",
       "      <td>0</td>\n",
       "      <td>86499</td>\n",
       "      <td>50.0</td>\n",
       "      <td>W</td>\n",
       "      <td>18132</td>\n",
       "      <td>567.0</td>\n",
       "      <td>150.0</td>\n",
       "      <td>mastercard</td>\n",
       "      <td>117.0</td>\n",
       "      <td>...</td>\n",
       "      <td>NaN</td>\n",
       "      <td>NaN</td>\n",
       "      <td>NaN</td>\n",
       "      <td>NaN</td>\n",
       "      <td>NaN</td>\n",
       "      <td>NaN</td>\n",
       "      <td>NaN</td>\n",
       "      <td>NaN</td>\n",
       "      <td>NaN</td>\n",
       "      <td>NaN</td>\n",
       "    </tr>\n",
       "    <tr>\n",
       "      <th>4</th>\n",
       "      <td>2987004</td>\n",
       "      <td>0</td>\n",
       "      <td>86506</td>\n",
       "      <td>50.0</td>\n",
       "      <td>H</td>\n",
       "      <td>4497</td>\n",
       "      <td>514.0</td>\n",
       "      <td>150.0</td>\n",
       "      <td>mastercard</td>\n",
       "      <td>102.0</td>\n",
       "      <td>...</td>\n",
       "      <td>samsung browser 6.2</td>\n",
       "      <td>32.0</td>\n",
       "      <td>2220x1080</td>\n",
       "      <td>match_status:2</td>\n",
       "      <td>T</td>\n",
       "      <td>F</td>\n",
       "      <td>T</td>\n",
       "      <td>T</td>\n",
       "      <td>mobile</td>\n",
       "      <td>SAMSUNG SM-G892A Build/NRD90M</td>\n",
       "    </tr>\n",
       "  </tbody>\n",
       "</table>\n",
       "<p>5 rows × 434 columns</p>\n",
       "</div>"
      ],
      "text/plain": [
       "   TransactionID  isFraud  TransactionDT  TransactionAmt ProductCD  card1  \\\n",
       "0        2987000        0          86400            68.5         W  13926   \n",
       "1        2987001        0          86401            29.0         W   2755   \n",
       "2        2987002        0          86469            59.0         W   4663   \n",
       "3        2987003        0          86499            50.0         W  18132   \n",
       "4        2987004        0          86506            50.0         H   4497   \n",
       "\n",
       "   card2  card3       card4  card5  ...                id_31  id_32  \\\n",
       "0    NaN  150.0    discover  142.0  ...                  NaN    NaN   \n",
       "1  404.0  150.0  mastercard  102.0  ...                  NaN    NaN   \n",
       "2  490.0  150.0        visa  166.0  ...                  NaN    NaN   \n",
       "3  567.0  150.0  mastercard  117.0  ...                  NaN    NaN   \n",
       "4  514.0  150.0  mastercard  102.0  ...  samsung browser 6.2   32.0   \n",
       "\n",
       "       id_33           id_34  id_35 id_36 id_37  id_38  DeviceType  \\\n",
       "0        NaN             NaN    NaN   NaN   NaN    NaN         NaN   \n",
       "1        NaN             NaN    NaN   NaN   NaN    NaN         NaN   \n",
       "2        NaN             NaN    NaN   NaN   NaN    NaN         NaN   \n",
       "3        NaN             NaN    NaN   NaN   NaN    NaN         NaN   \n",
       "4  2220x1080  match_status:2      T     F     T      T      mobile   \n",
       "\n",
       "                      DeviceInfo  \n",
       "0                            NaN  \n",
       "1                            NaN  \n",
       "2                            NaN  \n",
       "3                            NaN  \n",
       "4  SAMSUNG SM-G892A Build/NRD90M  \n",
       "\n",
       "[5 rows x 434 columns]"
      ]
     },
     "execution_count": 2,
     "metadata": {},
     "output_type": "execute_result"
    }
   ],
   "source": [
    "train_id = pd.read_csv('/Users/zeyangyu/Desktop/train_identity.csv')\n",
    "train_transaction = pd.read_csv('/Users/zeyangyu/Desktop/train_transaction.csv')\n",
    "train = train_transaction.merge(train_id,on=['TransactionID'],how='left')\n",
    "fraud = train[train['isFraud'] ==1]\n",
    "notFraud = train[train['isFraud'] ==0]\n",
    "train.head()"
   ]
  },
  {
   "cell_type": "code",
   "execution_count": 3,
   "id": "e9c1a6cc",
   "metadata": {},
   "outputs": [
    {
     "data": {
      "image/png": "[encoded data removed]",
      "text/plain": [
       "<Figure size 432x288 with 1 Axes>"
      ]
     },
     "metadata": {
      "needs_background": "light"
     },
     "output_type": "display_data"
    }
   ],
   "source": [
    "isFraud =  train['isFraud']\n",
    "plt.hist(isFraud)\n",
    "plt.title(\"Transaction: Not Fraud vs. Fraud \")\n",
    "plt.xlabel(\"isFraud\")\n",
    "plt.ylabel(\"Frequency\")\n",
    "plt.show()"
   ]
  },
  {
   "cell_type": "code",
   "execution_count": 4,
   "id": "b64284a4",
   "metadata": {},
   "outputs": [],
   "source": [
    "Not_fraud=train[train.isFraud==0]\n",
    "Fraud=train[train.isFraud==1]\n",
    "Not_fraud_undersampled = resample(Not_fraud,\n",
    "                               replace=True,\n",
    "                               n_samples=len(Fraud),\n",
    "                               random_state=27) # reproducible results\n",
    "df = pd.concat([Fraud, Not_fraud_undersampled])"
   ]
  },
  {
   "cell_type": "code",
   "execution_count": 5,
   "id": "597a0086",
   "metadata": {},
   "outputs": [
    {
     "data": {
      "image/png": "[encoded data removed]",
      "text/plain": [
       "<Figure size 432x288 with 1 Axes>"
      ]
     },
     "metadata": {
      "needs_background": "light"
     },
     "output_type": "display_data"
    }
   ],
   "source": [
    "isFraud = df['isFraud']\n",
    "plt.hist(isFraud)\n",
    "plt.title(\"Transaction: Not Fraud vs. Fraud \")\n",
    "plt.xlabel(\"isFraud\")\n",
    "plt.ylabel(\"Frequency\")\n",
    "plt.show()"
   ]
  },
  {
   "cell_type": "markdown",
   "id": "3f48b44f",
   "metadata": {},
   "source": [
    "Credit imputation"
   ]
  },
  {
   "cell_type": "code",
   "execution_count": 6,
   "id": "30a5c2c5",
   "metadata": {},
   "outputs": [],
   "source": [
    "df['isCredit'] = (df['card6'] == 'credit') *1"
   ]
  },
  {
   "cell_type": "markdown",
   "id": "24768b3b",
   "metadata": {},
   "source": [
    "Transaction amount: TransactionAmt(numeric), if_amount < 20 (1,0), Amount.group (categorical)"
   ]
  },
  {
   "cell_type": "code",
   "execution_count": 7,
   "id": "544d8b0c",
   "metadata": {},
   "outputs": [],
   "source": [
    "# fill na \n",
    "df['TransactionAmt'].fillna(df['TransactionAmt'].mean(), inplace=True) \n",
    "# set bins for the Transaction amount\n",
    "listbins = [0,15,50,100,300,2000,1000000000]\n",
    "listlabel = ['1','2','3','4','5','6']\n",
    "df['Amount.group']=pd.cut(df['TransactionAmt'],\n",
    "                             bins = listbins,labels = listlabel,right = False,include_lowest=True)\n",
    "df['if_amount < 20'] = (df['TransactionAmt'] < 20) * 1 #DRAW PIE CHART/FORM"
   ]
  },
  {
   "cell_type": "markdown",
   "id": "f549367e",
   "metadata": {},
   "source": [
    "Card 4: Financial Services Corporation"
   ]
  },
  {
   "cell_type": "code",
   "execution_count": 8,
   "id": "802d3297",
   "metadata": {},
   "outputs": [],
   "source": [
    "df['isDiscovery'] = (df['card4'] == 'discover') *1"
   ]
  },
  {
   "cell_type": "markdown",
   "id": "f5954783",
   "metadata": {},
   "source": [
    "ProductCD"
   ]
  },
  {
   "cell_type": "code",
   "execution_count": 9,
   "id": "273ff741",
   "metadata": {},
   "outputs": [],
   "source": [
    "df['isProductC'] = (df['ProductCD'] == 'C') *1"
   ]
  },
  {
   "cell_type": "markdown",
   "id": "be500c75",
   "metadata": {},
   "source": [
    "DeviceType"
   ]
  },
  {
   "cell_type": "code",
   "execution_count": 10,
   "id": "d28cd5de",
   "metadata": {},
   "outputs": [],
   "source": [
    "# one hot encoding \n",
    "df['isMobile'] = (df['DeviceType'] == 'mobile') *1\n",
    "df['isDesktop'] = (df['DeviceType'] == 'desktop') *1"
   ]
  },
  {
   "cell_type": "markdown",
   "id": "34a34885",
   "metadata": {},
   "source": [
    "Other useful variable, which is hard to explain"
   ]
  },
  {
   "cell_type": "code",
   "execution_count": 11,
   "id": "dc7c0c15",
   "metadata": {},
   "outputs": [],
   "source": [
    "# fill na , data imputation\n",
    "df['V288'].fillna(df['V288'].median(), inplace=True) \n",
    "df['V282'].fillna(df['V282'].median(), inplace=True) \n",
    "df['V285'].fillna(df['V285'].median(), inplace=True) \n",
    "df['V286'].fillna(df['V286'].median(), inplace=True) \n",
    "df['V287'].fillna(df['V287'].median(), inplace=True) \n",
    "df['V284'].fillna(df['V284'].median(), inplace=True) "
   ]
  },
  {
   "cell_type": "code",
   "execution_count": 12,
   "id": "cce6ef8b",
   "metadata": {},
   "outputs": [
    {
     "data": {
      "text/html": [
       "<div>\n",
       "<style scoped>\n",
       "    .dataframe tbody tr th:only-of-type {\n",
       "        vertical-align: middle;\n",
       "    }\n",
       "\n",
       "    .dataframe tbody tr th {\n",
       "        vertical-align: top;\n",
       "    }\n",
       "\n",
       "    .dataframe thead th {\n",
       "        text-align: right;\n",
       "    }\n",
       "</style>\n",
       "<table border=\"1\" class=\"dataframe\">\n",
       "  <thead>\n",
       "    <tr style=\"text-align: right;\">\n",
       "      <th></th>\n",
       "      <th>TransactionID</th>\n",
       "      <th>isFraud</th>\n",
       "      <th>TransactionDT</th>\n",
       "      <th>TransactionAmt</th>\n",
       "      <th>ProductCD</th>\n",
       "      <th>card1</th>\n",
       "      <th>card2</th>\n",
       "      <th>card3</th>\n",
       "      <th>card4</th>\n",
       "      <th>card5</th>\n",
       "      <th>...</th>\n",
       "      <th>id_38</th>\n",
       "      <th>DeviceType</th>\n",
       "      <th>DeviceInfo</th>\n",
       "      <th>isCredit</th>\n",
       "      <th>Amount.group</th>\n",
       "      <th>if_amount &lt; 20</th>\n",
       "      <th>isDiscovery</th>\n",
       "      <th>isProductC</th>\n",
       "      <th>isMobile</th>\n",
       "      <th>isDesktop</th>\n",
       "    </tr>\n",
       "  </thead>\n",
       "  <tbody>\n",
       "    <tr>\n",
       "      <th>203</th>\n",
       "      <td>2987203</td>\n",
       "      <td>1</td>\n",
       "      <td>89760</td>\n",
       "      <td>445.000</td>\n",
       "      <td>W</td>\n",
       "      <td>18268</td>\n",
       "      <td>583.0</td>\n",
       "      <td>150.0</td>\n",
       "      <td>visa</td>\n",
       "      <td>226.0</td>\n",
       "      <td>...</td>\n",
       "      <td>NaN</td>\n",
       "      <td>NaN</td>\n",
       "      <td>NaN</td>\n",
       "      <td>1</td>\n",
       "      <td>5</td>\n",
       "      <td>0</td>\n",
       "      <td>0</td>\n",
       "      <td>0</td>\n",
       "      <td>0</td>\n",
       "      <td>0</td>\n",
       "    </tr>\n",
       "    <tr>\n",
       "      <th>240</th>\n",
       "      <td>2987240</td>\n",
       "      <td>1</td>\n",
       "      <td>90193</td>\n",
       "      <td>37.098</td>\n",
       "      <td>C</td>\n",
       "      <td>13413</td>\n",
       "      <td>103.0</td>\n",
       "      <td>185.0</td>\n",
       "      <td>visa</td>\n",
       "      <td>137.0</td>\n",
       "      <td>...</td>\n",
       "      <td>T</td>\n",
       "      <td>mobile</td>\n",
       "      <td>Redmi Note 4 Build/MMB29M</td>\n",
       "      <td>1</td>\n",
       "      <td>2</td>\n",
       "      <td>0</td>\n",
       "      <td>0</td>\n",
       "      <td>1</td>\n",
       "      <td>1</td>\n",
       "      <td>0</td>\n",
       "    </tr>\n",
       "    <tr>\n",
       "      <th>243</th>\n",
       "      <td>2987243</td>\n",
       "      <td>1</td>\n",
       "      <td>90246</td>\n",
       "      <td>37.098</td>\n",
       "      <td>C</td>\n",
       "      <td>13413</td>\n",
       "      <td>103.0</td>\n",
       "      <td>185.0</td>\n",
       "      <td>visa</td>\n",
       "      <td>137.0</td>\n",
       "      <td>...</td>\n",
       "      <td>T</td>\n",
       "      <td>mobile</td>\n",
       "      <td>Redmi Note 4 Build/MMB29M</td>\n",
       "      <td>1</td>\n",
       "      <td>2</td>\n",
       "      <td>0</td>\n",
       "      <td>0</td>\n",
       "      <td>1</td>\n",
       "      <td>1</td>\n",
       "      <td>0</td>\n",
       "    </tr>\n",
       "    <tr>\n",
       "      <th>245</th>\n",
       "      <td>2987245</td>\n",
       "      <td>1</td>\n",
       "      <td>90295</td>\n",
       "      <td>37.098</td>\n",
       "      <td>C</td>\n",
       "      <td>13413</td>\n",
       "      <td>103.0</td>\n",
       "      <td>185.0</td>\n",
       "      <td>visa</td>\n",
       "      <td>137.0</td>\n",
       "      <td>...</td>\n",
       "      <td>T</td>\n",
       "      <td>mobile</td>\n",
       "      <td>Redmi Note 4 Build/MMB29M</td>\n",
       "      <td>1</td>\n",
       "      <td>2</td>\n",
       "      <td>0</td>\n",
       "      <td>0</td>\n",
       "      <td>1</td>\n",
       "      <td>1</td>\n",
       "      <td>0</td>\n",
       "    </tr>\n",
       "    <tr>\n",
       "      <th>288</th>\n",
       "      <td>2987288</td>\n",
       "      <td>1</td>\n",
       "      <td>90986</td>\n",
       "      <td>155.521</td>\n",
       "      <td>C</td>\n",
       "      <td>16578</td>\n",
       "      <td>545.0</td>\n",
       "      <td>185.0</td>\n",
       "      <td>visa</td>\n",
       "      <td>226.0</td>\n",
       "      <td>...</td>\n",
       "      <td>F</td>\n",
       "      <td>mobile</td>\n",
       "      <td>NaN</td>\n",
       "      <td>1</td>\n",
       "      <td>4</td>\n",
       "      <td>0</td>\n",
       "      <td>0</td>\n",
       "      <td>1</td>\n",
       "      <td>1</td>\n",
       "      <td>0</td>\n",
       "    </tr>\n",
       "    <tr>\n",
       "      <th>...</th>\n",
       "      <td>...</td>\n",
       "      <td>...</td>\n",
       "      <td>...</td>\n",
       "      <td>...</td>\n",
       "      <td>...</td>\n",
       "      <td>...</td>\n",
       "      <td>...</td>\n",
       "      <td>...</td>\n",
       "      <td>...</td>\n",
       "      <td>...</td>\n",
       "      <td>...</td>\n",
       "      <td>...</td>\n",
       "      <td>...</td>\n",
       "      <td>...</td>\n",
       "      <td>...</td>\n",
       "      <td>...</td>\n",
       "      <td>...</td>\n",
       "      <td>...</td>\n",
       "      <td>...</td>\n",
       "      <td>...</td>\n",
       "      <td>...</td>\n",
       "    </tr>\n",
       "    <tr>\n",
       "      <th>135549</th>\n",
       "      <td>3122549</td>\n",
       "      <td>0</td>\n",
       "      <td>2735318</td>\n",
       "      <td>8.629</td>\n",
       "      <td>C</td>\n",
       "      <td>3278</td>\n",
       "      <td>453.0</td>\n",
       "      <td>150.0</td>\n",
       "      <td>visa</td>\n",
       "      <td>226.0</td>\n",
       "      <td>...</td>\n",
       "      <td>T</td>\n",
       "      <td>mobile</td>\n",
       "      <td>NaN</td>\n",
       "      <td>0</td>\n",
       "      <td>1</td>\n",
       "      <td>1</td>\n",
       "      <td>0</td>\n",
       "      <td>1</td>\n",
       "      <td>1</td>\n",
       "      <td>0</td>\n",
       "    </tr>\n",
       "    <tr>\n",
       "      <th>219410</th>\n",
       "      <td>3206410</td>\n",
       "      <td>0</td>\n",
       "      <td>5157616</td>\n",
       "      <td>125.000</td>\n",
       "      <td>R</td>\n",
       "      <td>12839</td>\n",
       "      <td>321.0</td>\n",
       "      <td>150.0</td>\n",
       "      <td>visa</td>\n",
       "      <td>226.0</td>\n",
       "      <td>...</td>\n",
       "      <td>F</td>\n",
       "      <td>mobile</td>\n",
       "      <td>iOS Device</td>\n",
       "      <td>0</td>\n",
       "      <td>4</td>\n",
       "      <td>0</td>\n",
       "      <td>0</td>\n",
       "      <td>0</td>\n",
       "      <td>1</td>\n",
       "      <td>0</td>\n",
       "    </tr>\n",
       "    <tr>\n",
       "      <th>46840</th>\n",
       "      <td>3033840</td>\n",
       "      <td>0</td>\n",
       "      <td>1115029</td>\n",
       "      <td>250.000</td>\n",
       "      <td>R</td>\n",
       "      <td>16075</td>\n",
       "      <td>514.0</td>\n",
       "      <td>150.0</td>\n",
       "      <td>mastercard</td>\n",
       "      <td>102.0</td>\n",
       "      <td>...</td>\n",
       "      <td>F</td>\n",
       "      <td>mobile</td>\n",
       "      <td>iOS Device</td>\n",
       "      <td>1</td>\n",
       "      <td>4</td>\n",
       "      <td>0</td>\n",
       "      <td>0</td>\n",
       "      <td>0</td>\n",
       "      <td>1</td>\n",
       "      <td>0</td>\n",
       "    </tr>\n",
       "    <tr>\n",
       "      <th>563016</th>\n",
       "      <td>3550016</td>\n",
       "      <td>0</td>\n",
       "      <td>14922224</td>\n",
       "      <td>34.000</td>\n",
       "      <td>W</td>\n",
       "      <td>13307</td>\n",
       "      <td>428.0</td>\n",
       "      <td>150.0</td>\n",
       "      <td>visa</td>\n",
       "      <td>166.0</td>\n",
       "      <td>...</td>\n",
       "      <td>NaN</td>\n",
       "      <td>NaN</td>\n",
       "      <td>NaN</td>\n",
       "      <td>0</td>\n",
       "      <td>2</td>\n",
       "      <td>0</td>\n",
       "      <td>0</td>\n",
       "      <td>0</td>\n",
       "      <td>0</td>\n",
       "      <td>0</td>\n",
       "    </tr>\n",
       "    <tr>\n",
       "      <th>530115</th>\n",
       "      <td>3517115</td>\n",
       "      <td>0</td>\n",
       "      <td>13964041</td>\n",
       "      <td>119.456</td>\n",
       "      <td>C</td>\n",
       "      <td>15257</td>\n",
       "      <td>375.0</td>\n",
       "      <td>185.0</td>\n",
       "      <td>mastercard</td>\n",
       "      <td>224.0</td>\n",
       "      <td>...</td>\n",
       "      <td>F</td>\n",
       "      <td>desktop</td>\n",
       "      <td>Windows</td>\n",
       "      <td>0</td>\n",
       "      <td>4</td>\n",
       "      <td>0</td>\n",
       "      <td>0</td>\n",
       "      <td>1</td>\n",
       "      <td>0</td>\n",
       "      <td>1</td>\n",
       "    </tr>\n",
       "  </tbody>\n",
       "</table>\n",
       "<p>41326 rows × 441 columns</p>\n",
       "</div>"
      ],
      "text/plain": [
       "        TransactionID  isFraud  TransactionDT  TransactionAmt ProductCD  \\\n",
       "203           2987203        1          89760         445.000         W   \n",
       "240           2987240        1          90193          37.098         C   \n",
       "243           2987243        1          90246          37.098         C   \n",
       "245           2987245        1          90295          37.098         C   \n",
       "288           2987288        1          90986         155.521         C   \n",
       "...               ...      ...            ...             ...       ...   \n",
       "135549        3122549        0        2735318           8.629         C   \n",
       "219410        3206410        0        5157616         125.000         R   \n",
       "46840         3033840        0        1115029         250.000         R   \n",
       "563016        3550016        0       14922224          34.000         W   \n",
       "530115        3517115        0       13964041         119.456         C   \n",
       "\n",
       "        card1  card2  card3       card4  card5  ... id_38  DeviceType  \\\n",
       "203     18268  583.0  150.0        visa  226.0  ...   NaN         NaN   \n",
       "240     13413  103.0  185.0        visa  137.0  ...     T      mobile   \n",
       "243     13413  103.0  185.0        visa  137.0  ...     T      mobile   \n",
       "245     13413  103.0  185.0        visa  137.0  ...     T      mobile   \n",
       "288     16578  545.0  185.0        visa  226.0  ...     F      mobile   \n",
       "...       ...    ...    ...         ...    ...  ...   ...         ...   \n",
       "135549   3278  453.0  150.0        visa  226.0  ...     T      mobile   \n",
       "219410  12839  321.0  150.0        visa  226.0  ...     F      mobile   \n",
       "46840   16075  514.0  150.0  mastercard  102.0  ...     F      mobile   \n",
       "563016  13307  428.0  150.0        visa  166.0  ...   NaN         NaN   \n",
       "530115  15257  375.0  185.0  mastercard  224.0  ...     F     desktop   \n",
       "\n",
       "                       DeviceInfo  isCredit  Amount.group if_amount < 20  \\\n",
       "203                           NaN         1             5              0   \n",
       "240     Redmi Note 4 Build/MMB29M         1             2              0   \n",
       "243     Redmi Note 4 Build/MMB29M         1             2              0   \n",
       "245     Redmi Note 4 Build/MMB29M         1             2              0   \n",
       "288                           NaN         1             4              0   \n",
       "...                           ...       ...           ...            ...   \n",
       "135549                        NaN         0             1              1   \n",
       "219410                 iOS Device         0             4              0   \n",
       "46840                  iOS Device         1             4              0   \n",
       "563016                        NaN         0             2              0   \n",
       "530115                    Windows         0             4              0   \n",
       "\n",
       "       isDiscovery  isProductC  isMobile  isDesktop  \n",
       "203              0           0         0          0  \n",
       "240              0           1         1          0  \n",
       "243              0           1         1          0  \n",
       "245              0           1         1          0  \n",
       "288              0           1         1          0  \n",
       "...            ...         ...       ...        ...  \n",
       "135549           0           1         1          0  \n",
       "219410           0           0         1          0  \n",
       "46840            0           0         1          0  \n",
       "563016           0           0         0          0  \n",
       "530115           0           1         0          1  \n",
       "\n",
       "[41326 rows x 441 columns]"
      ]
     },
     "execution_count": 12,
     "metadata": {},
     "output_type": "execute_result"
    }
   ],
   "source": [
    "df"
   ]
  },
  {
   "cell_type": "code",
   "execution_count": 13,
   "id": "5f2424dc",
   "metadata": {},
   "outputs": [],
   "source": [
    "df_final = df.sample(frac=1)\n",
    "y = df_final['isFraud']"
   ]
  },
  {
   "cell_type": "code",
   "execution_count": 14,
   "id": "c098b517",
   "metadata": {},
   "outputs": [
    {
     "data": {
      "text/plain": [
       "464483    1\n",
       "196665    0\n",
       "447460    1\n",
       "487081    1\n",
       "492213    1\n",
       "         ..\n",
       "332536    0\n",
       "585542    1\n",
       "41146     1\n",
       "428460    1\n",
       "45004     0\n",
       "Name: isFraud, Length: 41326, dtype: int64"
      ]
     },
     "execution_count": 14,
     "metadata": {},
     "output_type": "execute_result"
    }
   ],
   "source": [
    "y"
   ]
  },
  {
   "cell_type": "markdown",
   "id": "f67df7ce",
   "metadata": {},
   "source": [
    "Model"
   ]
  },
  {
   "cell_type": "code",
   "execution_count": 15,
   "id": "fe44f354",
   "metadata": {},
   "outputs": [],
   "source": [
    "df_new = df_final[['isDiscovery','isMobile','isDesktop','isCredit','isProductC',\n",
    "               'if_amount < 20','Amount.group',\n",
    "               'V288','V282','V284','V285','V286','V287','isFraud']]"
   ]
  },
  {
   "cell_type": "code",
   "execution_count": 16,
   "id": "c48e659c",
   "metadata": {},
   "outputs": [],
   "source": [
    "X_train,X_test,y_train,y_test=train_test_split(df_new.drop('isFraud',axis=1),\n",
    "                                               y,test_size=.20,\n",
    "                                               random_state=0,\n",
    "                                               stratify=y)"
   ]
  },
  {
   "cell_type": "markdown",
   "id": "b1b12f4c",
   "metadata": {},
   "source": [
    "We tried the following combination: if amt + transamt, if amt + amtgroup, if amt + transamt + amtgroup\n",
    "over the same trainning & splitting data frames\n",
    "amt + amtgroup has the highest accuracy"
   ]
  },
  {
   "cell_type": "code",
   "execution_count": 17,
   "id": "c29d0282",
   "metadata": {},
   "outputs": [
    {
     "data": {
      "text/plain": [
       "((33060, 13), (33060,), (8266, 13), (8266,))"
      ]
     },
     "execution_count": 17,
     "metadata": {},
     "output_type": "execute_result"
    }
   ],
   "source": [
    "X_train.shape,y_train.shape,X_test.shape,y_test.shape"
   ]
  },
  {
   "cell_type": "code",
   "execution_count": 18,
   "id": "a1439bca",
   "metadata": {},
   "outputs": [
    {
     "data": {
      "text/plain": [
       "0.7350592789741108"
      ]
     },
     "execution_count": 18,
     "metadata": {},
     "output_type": "execute_result"
    }
   ],
   "source": [
    "from sklearn.tree import DecisionTreeClassifier\n",
    "clf = DecisionTreeClassifier(criterion='entropy', max_depth=None, random_state=0)\n",
    "clf.fit(X_train, y_train)\n",
    "clf.score(X_test, y_test)"
   ]
  },
  {
   "cell_type": "code",
   "execution_count": 19,
   "id": "f9c3a963",
   "metadata": {},
   "outputs": [
    {
     "name": "stdout",
     "output_type": "stream",
     "text": [
      "The confusion matrix is: \n",
      "      0     1\n",
      "0  3343   790\n",
      "1  1400  2733\n"
     ]
    }
   ],
   "source": [
    "#confusion matrix \n",
    "y1 = np.array(y_test)\n",
    "y_hat = np.array(clf.predict(X_test))\n",
    "M = confusion_matrix(y_true=y1, y_pred=y_hat)\n",
    "e = pd.DataFrame(data=M)\n",
    "print('The confusion matrix is: ')\n",
    "print(e)"
   ]
  },
  {
   "cell_type": "code",
   "execution_count": 20,
   "id": "6e0e318f",
   "metadata": {},
   "outputs": [
    {
     "data": {
      "text/plain": [
       "0.7377207839341883"
      ]
     },
     "execution_count": 20,
     "metadata": {},
     "output_type": "execute_result"
    }
   ],
   "source": [
    "from sklearn.ensemble import RandomForestClassifier\n",
    "from sklearn.datasets import make_classification\n",
    "\n",
    "Ran = RandomForestClassifier(max_depth=1000, random_state=1)\n",
    "Ran.fit(X_train, y_train)\n",
    "Ran.score(X_test, y_test)"
   ]
  },
  {
   "cell_type": "code",
   "execution_count": 21,
   "id": "5b2e18ef",
   "metadata": {},
   "outputs": [
    {
     "name": "stdout",
     "output_type": "stream",
     "text": [
      "The confusion matrix is: \n",
      "      0     1\n",
      "0  3304   829\n",
      "1  1339  2794\n"
     ]
    }
   ],
   "source": [
    "# confusion matrix 2\n",
    "y1 = np.array(y_test)\n",
    "y_hat = np.array(Ran.predict(X_test))\n",
    "M = confusion_matrix(y_true=y1, y_pred=y_hat)\n",
    "e = pd.DataFrame(data=M)\n",
    "print('The confusion matrix is: ')\n",
    "print(e)"
   ]
  },
  {
   "cell_type": "code",
   "execution_count": 22,
   "id": "fc5112a0",
   "metadata": {},
   "outputs": [
    {
     "data": {
      "text/plain": [
       "0.6786837648197436"
      ]
     },
     "execution_count": 22,
     "metadata": {},
     "output_type": "execute_result"
    }
   ],
   "source": [
    "# use Knn\n",
    "from sklearn.neighbors import KNeighborsClassifier\n",
    "from sklearn.neighbors import KNeighborsRegressor\n",
    "knn = KNeighborsClassifier(n_neighbors=3, metric='euclidean')\n",
    "knn.fit(X_train, y_train)\n",
    "knn.score(X_test, y_test)"
   ]
  },
  {
   "cell_type": "code",
   "execution_count": 23,
   "id": "f41c440b",
   "metadata": {},
   "outputs": [],
   "source": [
    "k_value =  [1, 3, 5, 7, 9, 11, 13, 14, 15, 20]\n",
    "K_score =[]\n",
    "for i in range(10):\n",
    "    knn = KNeighborsClassifier(n_neighbors= k_value[i], metric='euclidean') # set grid search\n",
    "    knn.fit(X_train, y_train) # fit the training data \n",
    "    K_score.append(knn.score(X_test, y_test))"
   ]
  },
  {
   "cell_type": "code",
   "execution_count": 24,
   "id": "f5f1aa1f",
   "metadata": {},
   "outputs": [
    {
     "data": {
      "text/plain": [
       "(0.5, 0.77)"
      ]
     },
     "execution_count": 24,
     "metadata": {},
     "output_type": "execute_result"
    },
    {
     "data": {
      "image/png": "[encoded data removed]",
      "text/plain": [
       "<Figure size 432x288 with 1 Axes>"
      ]
     },
     "metadata": {
      "needs_background": "light"
     },
     "output_type": "display_data"
    }
   ],
   "source": [
    "plt.title('Receiver Operating Characteristic')\n",
    "\n",
    "plt.scatter(k_value , K_score)\n",
    "plt.xlim([0, 17])\n",
    "plt.ylim([0.5, 0.77])"
   ]
  },
  {
   "cell_type": "code",
   "execution_count": 25,
   "id": "fae832aa",
   "metadata": {},
   "outputs": [
    {
     "data": {
      "text/plain": [
       "[0.6491652552625212,\n",
       " 0.6786837648197436,\n",
       " 0.7096540043551899,\n",
       " 0.721146866682797,\n",
       " 0.7300992015485119,\n",
       " 0.7224776191628357,\n",
       " 0.7264698766029518,\n",
       " 0.7288894265666586,\n",
       " 0.7275586740866199,\n",
       " 0.7265908541011372]"
      ]
     },
     "execution_count": 25,
     "metadata": {},
     "output_type": "execute_result"
    }
   ],
   "source": [
    "K_score\n",
    "# k = 14 is the best"
   ]
  },
  {
   "cell_type": "code",
   "execution_count": 26,
   "id": "454f2887",
   "metadata": {},
   "outputs": [
    {
     "name": "stdout",
     "output_type": "stream",
     "text": [
      "The confusion matrix is: \n",
      "      0     1\n",
      "0  3169   964\n",
      "1  1296  2837\n"
     ]
    }
   ],
   "source": [
    "y1 = np.array(y_test)\n",
    "y_hat = np.array(knn.predict(X_test))\n",
    "M = confusion_matrix(y_true=y1, y_pred=y_hat)\n",
    "e = pd.DataFrame(data=M)\n",
    "print('The confusion matrix is: ')\n",
    "print(e)"
   ]
  },
  {
   "cell_type": "markdown",
   "id": "fdfba94c",
   "metadata": {},
   "source": [
    "knn = 14 , "
   ]
  },
  {
   "cell_type": "code",
   "execution_count": 27,
   "id": "7b8bc461",
   "metadata": {},
   "outputs": [
    {
     "data": {
      "text/plain": [
       "0.7102588918461166"
      ]
     },
     "execution_count": 27,
     "metadata": {},
     "output_type": "execute_result"
    }
   ],
   "source": [
    "# logistic\n",
    "from sklearn import svm, linear_model, datasets\n",
    "model = linear_model.LogisticRegression(C =100)\n",
    "model.fit(X_train,y_train)\n",
    "model.score(X_test, y_test)"
   ]
  }
 ],
 "metadata": {
  "kernelspec": {
   "display_name": "Python 3 (ipykernel)",
   "language": "python",
   "name": "python3"
  },
  "language_info": {
   "codemirror_mode": {
    "name": "ipython",
    "version": 3
   },
   "file_extension": ".py",
   "mimetype": "text/x-python",
   "name": "python",
   "nbconvert_exporter": "python",
   "pygments_lexer": "ipython3",
   "version": "3.7.4"
  },
  "toc": {
   "base_numbering": 1,
   "nav_menu": {},
   "number_sections": true,
   "sideBar": true,
   "skip_h1_title": false,
   "title_cell": "Table of Contents",
   "title_sidebar": "Contents",
   "toc_cell": false,
   "toc_position": {},
   "toc_section_display": true,
   "toc_window_display": false
  }
 },
 "nbformat": 4,
 "nbformat_minor": 5
}
