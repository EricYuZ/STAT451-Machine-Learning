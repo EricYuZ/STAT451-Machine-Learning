{
 "cells": [
  {
   "cell_type": "markdown",
   "id": "20cd7782",
   "metadata": {},
   "source": [
    "# HW02: Practice with $k$NN, decision trees, and feature engineering\n",
    "\n",
    "[Name: Zeyang Yu / NetID:zyu355.]"
   ]
  },
  {
   "cell_type": "markdown",
   "id": "64e08fd6",
   "metadata": {},
   "source": [
    "## Hello Students:\n",
    "\n",
    "- Start by downloading HW02.ipynb from this folder. Then develop it into your solution.\n",
    "- Write code where you see \"... your code here ...\" below.\n",
    "  (You are welcome to use more than one cell.)\n",
    "- If you have questions, please ask them in class, office hours, or piazza. Our TA\n",
    "  and I are very happy to help with the programming (provided you start early\n",
    "  enough, and provided we are not helping so much that we undermine your learning).\n",
    "- When you are done, run these Notebook commands:\n",
    "  - Shift-L (once, so that line numbers are visible)\n",
    "  - Kernel > Restart and Run All (run all cells from scratch)\n",
    "  - Esc S (save)\n",
    "  - File > Download as > HTML\n",
    "- Turn in:\n",
    "  - HW02.ipynb to Canvas's HW02.ipynb assignment\n",
    "  - HW02.html to Canvas's HW02.html assignment\n",
    "  - As a check, download your files from Canvas to a new 'junk' folder. Try 'Kernel > Restart\n",
    "  and Run All' on the '.ipynb' file to make sure it works. Glance through the '.html' file.\n",
    "- Turn in partial solutions to Canvas before the deadline. e.g. Turn in part 1,\n",
    "  then parts 1 and 2, then your whole solution. That way we can award partial credit\n",
    "  even if you miss the deadline. We will grade your last submission before the deadline."
   ]
  },
  {
   "cell_type": "code",
   "execution_count": 62,
   "id": "1c272720",
   "metadata": {},
   "outputs": [],
   "source": [
    "import numpy as np\n",
    "import pandas as pd\n",
    "import matplotlib.pyplot as plt\n",
    "from sklearn.neighbors import KNeighborsClassifier\n",
    "from sklearn.neighbors import KNeighborsRegressor\n",
    "from io import StringIO\n",
    "from sklearn.model_selection import train_test_split\n",
    "from sklearn.tree import DecisionTreeClassifier\n",
    "from sklearn import tree\n",
    "from sklearn.tree import export_text \n",
    "from sklearn.preprocessing import MinMaxScaler\n",
    "from sklearn.preprocessing import StandardScaler\n",
    "from sklearn.impute import SimpleImputer"
   ]
  },
  {
   "cell_type": "markdown",
   "id": "e841c759",
   "metadata": {},
   "source": [
    "# 1. $k$NN and rescaling\n",
    "\n",
    "Explore how rescaling can help $k$NN perform well."
   ]
  },
  {
   "cell_type": "markdown",
   "id": "3170235b",
   "metadata": {},
   "source": [
    "## (a) Read a toy concentric ellipses data set.\n",
    "\n",
    "- Read the data from [http://www.stat.wisc.edu/~jgillett/451/data/ellipses.csv](http://www.stat.wisc.edu/~jgillett/451/data/ellipses.csv) into a DataFrame.\n",
    "- Display the first five rows.\n",
    "- Put its x0 and x1 columns into a feature array X.\n",
    "- Put its y column into a label array y.\n",
    "- Split the data into 75% training and 25% testing using random_state=0."
   ]
  },
  {
   "cell_type": "code",
   "execution_count": 63,
   "id": "986b1125",
   "metadata": {},
   "outputs": [
    {
     "name": "stdout",
     "output_type": "stream",
     "text": [
      "      x0     x1  y\n",
      "0 -1.937 -0.006  0\n",
      "1 -1.622 -0.057  0\n",
      "2 -0.791 -0.200  0\n",
      "3 -0.614 -0.171  0\n",
      "4 -0.490 -0.154  0\n"
     ]
    }
   ],
   "source": [
    "df = pd.read_csv('http://www.stat.wisc.edu/~jgillett/451/data/ellipses.csv')\n",
    "print(df.head())\n",
    "X = df[['x0', 'x1']].iloc[:,0:2].to_numpy()\n",
    "y = df['y'].iloc[:].to_numpy()\n",
    "X_train, X_test, y_train, y_test = train_test_split(X, y, random_state=0)"
   ]
  },
  {
   "cell_type": "markdown",
   "id": "31b4fda7",
   "metadata": {},
   "source": [
    "## (b) Plot the data.\n",
    "\n",
    "- Put x0 on the $x$ axis and x1 on the $y$ axis.\n",
    "- Plot points with these colors:\n",
    "  - training 0 = red\n",
    "  - training 1 = blue\n",
    "  - testing 0 = orange\n",
    "  - testing 1 = lime (a bright green)\n",
    "- Use $x$ and $y$ axis limits of $(-6, 6)$.\n",
    "- Include a legend."
   ]
  },
  {
   "cell_type": "code",
   "execution_count": 64,
   "id": "7497a67e",
   "metadata": {},
   "outputs": [
    {
     "data": {
      "text/plain": [
       "<matplotlib.legend.Legend at 0x7fd07ca6dd10>"
      ]
     },
     "execution_count": 64,
     "metadata": {},
     "output_type": "execute_result"
    },
    {
     "data": {
      "image/png": "[encoded data removed]",
      "text/plain": [
       "<Figure size 576x504 with 1 Axes>"
      ]
     },
     "metadata": {
      "needs_background": "light"
     },
     "output_type": "display_data"
    }
   ],
   "source": [
    "# draw points\n",
    "plt.xlim(-6, 6)\n",
    "plt.ylim(-6, 6)\n",
    "n_X_train = X_train.shape[0]\n",
    "        \n",
    "plt.plot(X_train[y_train==0, 0], X_train[y_train==0, 1], '.r', label='train0')  \n",
    "plt.plot(X_train[y_train==1, 0], X_train[y_train==1, 1], '.b', label='train1') \n",
    "plt.plot(X_test[y_test==0, 0], X_test[y_test==0, 1], '.', color = 'orange', label='test0') \n",
    "plt.plot(X_test[y_test==1, 0], X_test[y_test==1, 1], '.', color = 'lime', label='test1') \n",
    "\n",
    "plt.legend()"
   ]
  },
  {
   "cell_type": "markdown",
   "id": "037d76c2",
   "metadata": {},
   "source": [
    "## (c) Train a $k$NN classifier and report its accuracy on test data.\n",
    "- Use $k = 3$ and the (default) euclidean metric.\n",
    "- Train on the training data.\n",
    "- Report the accuracy on the test data by writing a line like `Test accuracy is 0.5`\n",
    "  (0.5 is not correct)."
   ]
  },
  {
   "cell_type": "code",
   "execution_count": 65,
   "id": "75b01ddd",
   "metadata": {},
   "outputs": [
    {
     "name": "stdout",
     "output_type": "stream",
     "text": [
      "Test accuracy is 0.8.\n"
     ]
    }
   ],
   "source": [
    "knn = KNeighborsClassifier(n_neighbors=3, metric='euclidean')\n",
    "knn.fit(X_train, y_train)\n",
    "score = knn.score(X_test, y_test)\n",
    "print(f'Test accuracy is {score:.3}.')"
   ]
  },
  {
   "cell_type": "markdown",
   "id": "b5eccab0",
   "metadata": {},
   "source": [
    "## (d) Now rescale the features using standardization, but be careful:\n",
    "- Fit the scaler only to the training features. (We could cause [data leakage](https://scikit-learn.org/stable/common_pitfalls.html#data-leakage-during-pre-processing) that optimistically\n",
    "  biases our model if we included the test data while fitting the scaler.)\n",
    "- Transform the training features.\n",
    "- Use the same scaler, without fitting again, to transform the test features.\n",
    "\n",
    "  Hint: I showed a \".fit_transform()\" method that finds the mean and standard deviation\n",
    "  and then rescales the features in one step. There are also separate \".fit()\" and \".transform()\"\n",
    "  methods, the first of which finds the mean and standard deviation, and the second of which \n",
    "  transforms the data. You should use \".transform()\" on the test features, without using\n",
    "  \".fit_transform()\" or \".fit()\" on the test features."
   ]
  },
  {
   "cell_type": "code",
   "execution_count": 66,
   "id": "383862e7",
   "metadata": {},
   "outputs": [],
   "source": [
    "scaler = StandardScaler()\n",
    "X_train_scaled = scaler.fit_transform(X_train)\n",
    "X_test_scaled = scaler.transform(X_test)"
   ]
  },
  {
   "cell_type": "markdown",
   "id": "764c2caf",
   "metadata": {},
   "source": [
    "## (d) Repeat steps (b) and (c), this time on the rescaled data."
   ]
  },
  {
   "cell_type": "code",
   "execution_count": 67,
   "id": "f324cd15",
   "metadata": {},
   "outputs": [
    {
     "name": "stdout",
     "output_type": "stream",
     "text": [
      "Test accuracy is 1.0.\n"
     ]
    },
    {
     "data": {
      "image/png": "[encoded data removed]",
      "text/plain": [
       "<Figure size 576x504 with 1 Axes>"
      ]
     },
     "metadata": {
      "needs_background": "light"
     },
     "output_type": "display_data"
    }
   ],
   "source": [
    "# draw points\n",
    "plt.xlim(-6, 6)\n",
    "plt.ylim(-6, 6)\n",
    "n_X_train_scaled = X_train_scaled.shape[0]\n",
    "\n",
    "plt.plot(X_train_scaled[y_train==0, 0], X_train_scaled[y_train==0, 1], '.r', label='train0')  \n",
    "plt.plot(X_train_scaled[y_train==1, 0], X_train_scaled[y_train==1, 1], '.b', label='train1') \n",
    "plt.plot(X_test_scaled[y_test==0, 0], X_test_scaled[y_test==0, 1], '.', color = 'orange', label='test0') \n",
    "plt.plot(X_test_scaled[y_test==1, 0], X_test_scaled[y_test==1, 1], '.', color = 'lime', label='test1') \n",
    "plt.legend()\n",
    "\n",
    "knn = KNeighborsClassifier(n_neighbors=3, metric='euclidean')\n",
    "knn.fit(X_train_scaled, y_train)\n",
    "score = knn.score(X_test_scaled, y_test)\n",
    "print(f'Test accuracy is {score:.3}.')"
   ]
  },
  {
   "cell_type": "markdown",
   "id": "8fa5e15e",
   "metadata": {},
   "source": [
    "Notice that some information in the raw x1 feature was concealed from $k$NN in step (b) because\n",
    "x1's scale was much smaller than x0's scale. Rescaling the features let $k$NN do its job well\n",
    "in step (d)."
   ]
  },
  {
   "cell_type": "markdown",
   "id": "d774e1f1",
   "metadata": {},
   "source": [
    "# 2 Decision trees and rescaling"
   ]
  },
  {
   "cell_type": "markdown",
   "id": "7fce75fb",
   "metadata": {},
   "source": [
    "## (a) Read the ellipses data again to get a clean, unscaled copy.\n",
    "Split it again using random_state=0."
   ]
  },
  {
   "cell_type": "code",
   "execution_count": 68,
   "id": "43d76a05",
   "metadata": {},
   "outputs": [],
   "source": [
    "df = pd.read_csv('http://www.stat.wisc.edu/~jgillett/451/data/ellipses.csv')\n",
    "feature_names = ['x0', 'x1']\n",
    "X = df[feature_names].iloc[:,0:2].to_numpy()\n",
    "y = df['y'].iloc[:].to_numpy()\n",
    "X_train, X_test, y_train, y_test = train_test_split(X, y, random_state=0)"
   ]
  },
  {
   "cell_type": "markdown",
   "id": "ebc5aa7f",
   "metadata": {},
   "source": [
    "## (b)  Train a decision tree classifier and report its accuracy on test data.\n",
    "- Train on the training data.\n",
    "- Report the accuracy on test data as above.\n",
    "- Use tree.plot_tree() to display your tree.\n",
    "  - Include feature_names to make the tree easy to read."
   ]
  },
  {
   "cell_type": "code",
   "execution_count": 69,
   "id": "d357e927",
   "metadata": {},
   "outputs": [
    {
     "name": "stdout",
     "output_type": "stream",
     "text": [
      "|--- x1 <= 0.26\n",
      "|   |--- x1 <= -0.24\n",
      "|   |   |--- class: 1\n",
      "|   |--- x1 >  -0.24\n",
      "|   |   |--- x0 <= -3.79\n",
      "|   |   |   |--- class: 1\n",
      "|   |   |--- x0 >  -3.79\n",
      "|   |   |   |--- x0 <= 4.02\n",
      "|   |   |   |   |--- class: 0\n",
      "|   |   |   |--- x0 >  4.02\n",
      "|   |   |   |   |--- class: 1\n",
      "|--- x1 >  0.26\n",
      "|   |--- class: 1\n",
      "\n",
      "Accuracy on training data is clf.score(X_test, y_test)=1.0.\n"
     ]
    },
    {
     "data": {
      "image/png": "[encoded data removed]",
      "text/plain": [
       "<Figure size 576x504 with 1 Axes>"
      ]
     },
     "metadata": {
      "needs_background": "light"
     },
     "output_type": "display_data"
    }
   ],
   "source": [
    "clf = DecisionTreeClassifier(criterion='entropy', max_depth=None, random_state=0)\n",
    "clf.fit(X_train, y_train)\n",
    "plt.rcParams[\"figure.figsize\"] = (8, 7) \n",
    "tree.plot_tree(clf, feature_names=feature_names)\n",
    "print(export_text(clf, feature_names=feature_names))\n",
    "print(f'Accuracy on training data is clf.score(X_test, y_test)={clf.score(X_test, y_test)}.')"
   ]
  },
  {
   "cell_type": "markdown",
   "id": "a5510f7b",
   "metadata": {},
   "source": [
    "### Are both features used in the decision-making? Answer in a markdown cell, giving the number of times each feature is used."
   ]
  },
  {
   "cell_type": "markdown",
   "id": "0e27559b",
   "metadata": {},
   "source": [
    "#### Yes, both features used in the decision-making. \n",
    "#### The number of times: x0:2 and x1:2."
   ]
  },
  {
   "cell_type": "markdown",
   "id": "7ad71bba",
   "metadata": {},
   "source": [
    "### Why does feature scaling seem unnecessary for an ID3 decision tree? Answer in a markdown cell."
   ]
  },
  {
   "cell_type": "markdown",
   "id": "f9513643",
   "metadata": {},
   "source": [
    "#### The reason is that ID decision tree is only splitting a node based on a single feature and so that it is not sensitive to the the variance in the data."
   ]
  },
  {
   "cell_type": "markdown",
   "id": "e26b285f",
   "metadata": {},
   "source": [
    "# 3 One-hot encoding and data imputation on a Titanic data set."
   ]
  },
  {
   "cell_type": "markdown",
   "id": "6920d3fd",
   "metadata": {},
   "source": [
    "## (a) Read the data from [http://www.stat.wisc.edu/~jgillett/451/data/kaggle_titanic_train.csv](http://www.stat.wisc.edu/~jgillett/451/data/kaggle_titanic_train.csv).\n",
    "\n",
    "- Display the  first seven rows.\n",
    "\n",
    "These data are described at [https://www.kaggle.com/competitions/titanic/data](https://www.kaggle.com/competitions/titanic/data) (click on the small down-arrow to see the \"Data Dictionary\"), which is where they are from."
   ]
  },
  {
   "cell_type": "code",
   "execution_count": 70,
   "id": "28744387",
   "metadata": {},
   "outputs": [
    {
     "data": {
      "text/html": [
       "<div>\n",
       "<style scoped>\n",
       "    .dataframe tbody tr th:only-of-type {\n",
       "        vertical-align: middle;\n",
       "    }\n",
       "\n",
       "    .dataframe tbody tr th {\n",
       "        vertical-align: top;\n",
       "    }\n",
       "\n",
       "    .dataframe thead th {\n",
       "        text-align: right;\n",
       "    }\n",
       "</style>\n",
       "<table border=\"1\" class=\"dataframe\">\n",
       "  <thead>\n",
       "    <tr style=\"text-align: right;\">\n",
       "      <th></th>\n",
       "      <th>PassengerId</th>\n",
       "      <th>Survived</th>\n",
       "      <th>Pclass</th>\n",
       "      <th>Name</th>\n",
       "      <th>Sex</th>\n",
       "      <th>Age</th>\n",
       "      <th>SibSp</th>\n",
       "      <th>Parch</th>\n",
       "      <th>Ticket</th>\n",
       "      <th>Fare</th>\n",
       "      <th>Cabin</th>\n",
       "      <th>Embarked</th>\n",
       "    </tr>\n",
       "  </thead>\n",
       "  <tbody>\n",
       "    <tr>\n",
       "      <th>0</th>\n",
       "      <td>1</td>\n",
       "      <td>0</td>\n",
       "      <td>3</td>\n",
       "      <td>Braund, Mr. Owen Harris</td>\n",
       "      <td>male</td>\n",
       "      <td>22.0</td>\n",
       "      <td>1</td>\n",
       "      <td>0</td>\n",
       "      <td>A/5 21171</td>\n",
       "      <td>7.2500</td>\n",
       "      <td>NaN</td>\n",
       "      <td>S</td>\n",
       "    </tr>\n",
       "    <tr>\n",
       "      <th>1</th>\n",
       "      <td>2</td>\n",
       "      <td>1</td>\n",
       "      <td>1</td>\n",
       "      <td>Cumings, Mrs. John Bradley (Florence Briggs Th...</td>\n",
       "      <td>female</td>\n",
       "      <td>38.0</td>\n",
       "      <td>1</td>\n",
       "      <td>0</td>\n",
       "      <td>PC 17599</td>\n",
       "      <td>71.2833</td>\n",
       "      <td>C85</td>\n",
       "      <td>C</td>\n",
       "    </tr>\n",
       "    <tr>\n",
       "      <th>2</th>\n",
       "      <td>3</td>\n",
       "      <td>1</td>\n",
       "      <td>3</td>\n",
       "      <td>Heikkinen, Miss. Laina</td>\n",
       "      <td>female</td>\n",
       "      <td>26.0</td>\n",
       "      <td>0</td>\n",
       "      <td>0</td>\n",
       "      <td>STON/O2. 3101282</td>\n",
       "      <td>7.9250</td>\n",
       "      <td>NaN</td>\n",
       "      <td>S</td>\n",
       "    </tr>\n",
       "    <tr>\n",
       "      <th>3</th>\n",
       "      <td>4</td>\n",
       "      <td>1</td>\n",
       "      <td>1</td>\n",
       "      <td>Futrelle, Mrs. Jacques Heath (Lily May Peel)</td>\n",
       "      <td>female</td>\n",
       "      <td>35.0</td>\n",
       "      <td>1</td>\n",
       "      <td>0</td>\n",
       "      <td>113803</td>\n",
       "      <td>53.1000</td>\n",
       "      <td>C123</td>\n",
       "      <td>S</td>\n",
       "    </tr>\n",
       "    <tr>\n",
       "      <th>4</th>\n",
       "      <td>5</td>\n",
       "      <td>0</td>\n",
       "      <td>3</td>\n",
       "      <td>Allen, Mr. William Henry</td>\n",
       "      <td>male</td>\n",
       "      <td>35.0</td>\n",
       "      <td>0</td>\n",
       "      <td>0</td>\n",
       "      <td>373450</td>\n",
       "      <td>8.0500</td>\n",
       "      <td>NaN</td>\n",
       "      <td>S</td>\n",
       "    </tr>\n",
       "    <tr>\n",
       "      <th>5</th>\n",
       "      <td>6</td>\n",
       "      <td>0</td>\n",
       "      <td>3</td>\n",
       "      <td>Moran, Mr. James</td>\n",
       "      <td>male</td>\n",
       "      <td>NaN</td>\n",
       "      <td>0</td>\n",
       "      <td>0</td>\n",
       "      <td>330877</td>\n",
       "      <td>8.4583</td>\n",
       "      <td>NaN</td>\n",
       "      <td>Q</td>\n",
       "    </tr>\n",
       "    <tr>\n",
       "      <th>6</th>\n",
       "      <td>7</td>\n",
       "      <td>0</td>\n",
       "      <td>1</td>\n",
       "      <td>McCarthy, Mr. Timothy J</td>\n",
       "      <td>male</td>\n",
       "      <td>54.0</td>\n",
       "      <td>0</td>\n",
       "      <td>0</td>\n",
       "      <td>17463</td>\n",
       "      <td>51.8625</td>\n",
       "      <td>E46</td>\n",
       "      <td>S</td>\n",
       "    </tr>\n",
       "  </tbody>\n",
       "</table>\n",
       "</div>"
      ],
      "text/plain": [
       "   PassengerId  Survived  Pclass  \\\n",
       "0            1         0       3   \n",
       "1            2         1       1   \n",
       "2            3         1       3   \n",
       "3            4         1       1   \n",
       "4            5         0       3   \n",
       "5            6         0       3   \n",
       "6            7         0       1   \n",
       "\n",
       "                                                Name     Sex   Age  SibSp  \\\n",
       "0                            Braund, Mr. Owen Harris    male  22.0      1   \n",
       "1  Cumings, Mrs. John Bradley (Florence Briggs Th...  female  38.0      1   \n",
       "2                             Heikkinen, Miss. Laina  female  26.0      0   \n",
       "3       Futrelle, Mrs. Jacques Heath (Lily May Peel)  female  35.0      1   \n",
       "4                           Allen, Mr. William Henry    male  35.0      0   \n",
       "5                                   Moran, Mr. James    male   NaN      0   \n",
       "6                            McCarthy, Mr. Timothy J    male  54.0      0   \n",
       "\n",
       "   Parch            Ticket     Fare Cabin Embarked  \n",
       "0      0         A/5 21171   7.2500   NaN        S  \n",
       "1      0          PC 17599  71.2833   C85        C  \n",
       "2      0  STON/O2. 3101282   7.9250   NaN        S  \n",
       "3      0            113803  53.1000  C123        S  \n",
       "4      0            373450   8.0500   NaN        S  \n",
       "5      0            330877   8.4583   NaN        Q  \n",
       "6      0             17463  51.8625   E46        S  "
      ]
     },
     "execution_count": 70,
     "metadata": {},
     "output_type": "execute_result"
    }
   ],
   "source": [
    "data = pd.read_csv('http://www.stat.wisc.edu/~jgillett/451/data/kaggle_titanic_train.csv')\n",
    "data.head(7)"
   ]
  },
  {
   "cell_type": "markdown",
   "id": "127019a2",
   "metadata": {},
   "source": [
    "### Try to train a $k$NN model to predict $y=$ 'Survived' from these features: 'Pclass', 'Sex', 'Age', 'SibSp', 'Parch'.\n",
    "- Use $k = 3$ and the (default) euclidean metric.\n",
    "- Notice that it fails with the error \"ValueError: could not convert string to float: 'male'\".\n",
    "- Comment out your .fit() line."
   ]
  },
  {
   "cell_type": "code",
   "execution_count": 71,
   "id": "d2cd1b60",
   "metadata": {},
   "outputs": [],
   "source": [
    "feature_names = ['Pclass', 'Sex', 'Age', 'SibSp', 'Parch']\n",
    "X = data[feature_names].iloc[:,:].to_numpy()\n",
    "y = data['Survived'].iloc[:].to_numpy()\n",
    "knn = KNeighborsClassifier(n_neighbors=3, metric='euclidean')\n",
    "#knn.fit(X_train, y_train)"
   ]
  },
  {
   "cell_type": "markdown",
   "id": "1a8a192f",
   "metadata": {},
   "source": [
    "### Try to train again, this time without the 'Sex' feature.\n",
    "- Notice that it fails because \"Input contains NaN\".\n",
    "- Comment out your .fit() line.\n",
    "- Run `X.isna().any()` (where X is the name of your DataFrame of features) to see that\n",
    "  the 'Age' feature has missing values. (You can see the first missing value in\n",
    "  the sixth row that you displayed above.)"
   ]
  },
  {
   "cell_type": "code",
   "execution_count": 72,
   "id": "9f9dafa8",
   "metadata": {},
   "outputs": [
    {
     "data": {
      "text/plain": [
       "True"
      ]
     },
     "execution_count": 72,
     "metadata": {},
     "output_type": "execute_result"
    }
   ],
   "source": [
    "feature_names = ['Pclass', 'Age', 'SibSp', 'Parch']\n",
    "X = data[feature_names].iloc[:,:].to_numpy()\n",
    "y = data['Survived'].iloc[:].to_numpy()\n",
    "knn = KNeighborsClassifier(n_neighbors=3, metric='euclidean')\n",
    "#knn.fit(X_train, y_train)\n",
    "data['Age'].isna().any()"
   ]
  },
  {
   "cell_type": "markdown",
   "id": "e284766b",
   "metadata": {},
   "source": [
    "### Train without the 'Sex' and 'Age' features.\n",
    "- Report accuracy on the training data with a line of the form\n",
    "  `Accuracy on training data is  0.500` (0.500 is not correct)."
   ]
  },
  {
   "cell_type": "code",
   "execution_count": 73,
   "id": "84429e9e",
   "metadata": {},
   "outputs": [
    {
     "name": "stdout",
     "output_type": "stream",
     "text": [
      "Accuracy on training data is 0.633.\n"
     ]
    }
   ],
   "source": [
    "feature_names = ['Pclass', 'SibSp', 'Parch']\n",
    "X = data[feature_names].to_numpy()\n",
    "y = data['Survived'].to_numpy()\n",
    "knn = KNeighborsClassifier(n_neighbors=3, metric='euclidean')\n",
    "knn.fit(X, y)\n",
    "score = knn.score(X, y)\n",
    "print(f'Accuracy on training data is {score:.3}.')"
   ]
  },
  {
   "cell_type": "markdown",
   "id": "9b23a544",
   "metadata": {},
   "source": [
    "## (b)  Use one-hot encoding\n",
    "to include a binary 'male'  feature made from the 'Sex' feature. (Or include a binary 'female'\n",
    "feature, according to your preference. Using both is unnecessary since either is the logical\n",
    "negation of the other.) That is, train on these features: 'Pclass', 'SibSp', 'Parch', 'male'.\n",
    "\n",
    "- Report training accuracy as before."
   ]
  },
  {
   "cell_type": "code",
   "execution_count": 74,
   "id": "5d993ee8",
   "metadata": {},
   "outputs": [
    {
     "name": "stdout",
     "output_type": "stream",
     "text": [
      "Accuracy on training data is 0.744.\n"
     ]
    }
   ],
   "source": [
    "data = data.join(pd.get_dummies(data.Sex, drop_first=False))\n",
    "feature_names = ['Pclass', 'SibSp', 'Parch', 'male']\n",
    "X = data[feature_names].iloc[:,:].to_numpy()\n",
    "y = data['Survived'].iloc[:].to_numpy()\n",
    "knn = KNeighborsClassifier(n_neighbors=3, metric='euclidean')\n",
    "knn.fit(X, y)\n",
    "score = knn.score(X, y)\n",
    "print(f'Accuracy on training data is {score:.3}.')"
   ]
  },
  {
   "cell_type": "markdown",
   "id": "6fb72c9d",
   "metadata": {},
   "source": [
    "## (c) Use data imputation\n",
    "to include an 'age' feature made from 'Age' but replacing each missing value with the median\n",
    "of the non-missing ages. That is, train on these features: 'Pclass', 'SibSp', 'Parch', 'male',\n",
    "'age'.\n",
    "\n",
    "- Report training accuracy as before."
   ]
  },
  {
   "cell_type": "code",
   "execution_count": 75,
   "id": "e09dfcf4",
   "metadata": {},
   "outputs": [
    {
     "name": "stdout",
     "output_type": "stream",
     "text": [
      "Training accuracy is 0.861.\n"
     ]
    }
   ],
   "source": [
    "imp = SimpleImputer(missing_values=np.nan, strategy='median', fill_value=None)\n",
    "data.Age = imp.fit_transform(data.Age.to_numpy().reshape(-1, 1)) \n",
    "feature_names = ['Pclass', 'SibSp', 'Parch', 'male', 'Age']\n",
    "X = data[feature_names].to_numpy()\n",
    "y = data['Survived'].to_numpy()\n",
    "knn = KNeighborsClassifier(n_neighbors=3, metric='euclidean')\n",
    "knn.fit(X, y)\n",
    "score = knn.score(X, y)\n",
    "print(f'Training accuracy is {score:.3}.')"
   ]
  }
 ],
 "metadata": {
  "celltoolbar": "Tags",
  "kernelspec": {
   "display_name": "Python 3 (ipykernel)",
   "language": "python",
   "name": "python3"
  },
  "language_info": {
   "codemirror_mode": {
    "name": "ipython",
    "version": 3
   },
   "file_extension": ".py",
   "mimetype": "text/x-python",
   "name": "python",
   "nbconvert_exporter": "python",
   "pygments_lexer": "ipython3",
   "version": "3.7.4"
  }
 },
 "nbformat": 4,
 "nbformat_minor": 5
}
