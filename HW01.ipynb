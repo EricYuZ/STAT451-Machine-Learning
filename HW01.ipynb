{
 "cells": [
  {
   "cell_type": "markdown",
   "id": "134fef91",
   "metadata": {},
   "source": [
    "# HW1: Practice with Python, hard-margin SVM, linear regression, and logistic regression\n",
    "\n",
    "[Name: Zeyang Yu/NetID: zyu355]"
   ]
  },
  {
   "cell_type": "markdown",
   "id": "035267e9",
   "metadata": {},
   "source": [
    "Hello Students:\n",
    "\n",
    "- Start by downloading HW1.ipynb from this folder. Then develop it into your solution.\n",
    "- Write code where you see \"... your code here ...\" below.\n",
    "  (You are welcome to use more than one cell.)\n",
    "- I've included the output from my solution so you can check your\n",
    "  work. Your output should match or be close to mine. Use 3 significant\n",
    "  figures for floats. e.g. We can print 3 figures for 𝜋/1000 as\n",
    "  print(f'{np.pi/1000:.3}'). The pattern is print(f'{x:.precision}'),\n",
    "  where x is the value to print and precision is the number of figures.\n",
    "- If you have questions, please ask them in class, office hours, or piazza. Our TA\n",
    "  and I are very happy to help with the programming (provided you start early\n",
    "  enough, and provided we are not helping so much that we undermine your learning).\n",
    "- When you are done, run these Notebook commands:\n",
    "  - Shift-L (once, so that line numbers are visible)\n",
    "  - Kernel > Restart and Run All (run all cells from scratch)\n",
    "  - Esc S (save)\n",
    "  - File > Download as > HTML\n",
    "- Turn in:\n",
    "  - HW01.ipynb to Canvas's HW01.ipynb assignment\n",
    "  - HW01.html to Canvas's HW01.html assignment\n",
    "  - As a check, download your files from Canvas to a new 'junk' folder. Try 'Kernel > Restart\n",
    "  and Run All' on the '.ipynb' file to make sure it works. Glance through the '.html' file.\n",
    "- Turn in partial solutions to Canvas before the deadline. e.g. Turn in part 1,\n",
    "  then parts 1 and 2, then your whole solution. That way we can award partial credit\n",
    "  even if you miss the deadline. We will grade your last submission before the deadline."
   ]
  },
  {
   "cell_type": "code",
   "execution_count": 1,
   "id": "6510b622",
   "metadata": {},
   "outputs": [],
   "source": [
    "import numpy as np\n",
    "import pandas as pd\n",
    "import matplotlib.pyplot as plt\n",
    "\n",
    "from sklearn import svm, linear_model, datasets\n",
    "from sklearn.model_selection import train_test_split"
   ]
  },
  {
   "cell_type": "markdown",
   "id": "8ad1a8c2",
   "metadata": {},
   "source": [
    "# 1. Use a hard-margin SVM\n",
    " to classify cars as having automatic or manual transmissions.\n",
    "- Read [http://www.stat.wisc.edu/~jgillett/451/data/mtcars.csv](http://www.stat.wisc.edu/~jgillett/451/data/mtcars.csv) into a DataFrame.\n",
    "- The hard-margin SVM we saw in section 01 requires linearly-separable data. With that in mind,\n",
    "  remove two outliers from the data, namely the 'Toyota Corona' and 'Maserati Bora'.\n",
    "  (I'm not sure \"outliers\" is the right word, but these two cars would be on the wrong side\n",
    "  of the natural decision boundary.)\n",
    "- From the remaining 30 cars, make a 30x2 numpy array X from the mpg (miles per gallon) and wt\n",
    "  (weight in 1000s of pounds) columns. Make an array y from the am column (where 0=automatic\n",
    "  or 1=manual transmission).\n",
    "- Train an SVM using kernel='linear' and C=1000. Print its coefficients and intercept.\n",
    "- Report the training accuracy. (It's given by clf.score(X, y).)\n",
    "- Predict the transmission for a car (from 1974) weighing 4000 pounds (wt=4) that gets 20 mpg.\n",
    "- Use five plt.plot() calls to make a figure with wt on its x-axis and mpg on its y-axis including:\n",
    "  - the automatic transmission cars in red\n",
    "  - the manual transmission cars in blue\n",
    "  - the decision boundary (the center line of the road)\n",
    "  - the lower margin boundary (the left side of the road)\n",
    "  - the upper margin boundary (the right side of the road)\n",
    "  - a reasonable title, axis labels, and legend"
   ]
  },
  {
   "cell_type": "code",
   "execution_count": 200,
   "id": "371e3bd6",
   "metadata": {},
   "outputs": [
    {
     "name": "stdout",
     "output_type": "stream",
     "text": [
      "The decision boundary is -8.24 * weight + -0.309 * mileage + 32.0 = 0.\n",
      "The training accuracy is 1.0.\n",
      "We predict that a car weighing 4 thousand pounds that gets 20 mpg has transmission type 0 (where 0=automatic, 1=manual).\n"
     ]
    },
    {
     "data": {
      "image/png": "[encoded data removed]",
      "text/plain": [
       "<Figure size 432x288 with 1 Axes>"
      ]
     },
     "metadata": {
      "needs_background": "light"
     },
     "output_type": "display_data"
    }
   ],
   "source": [
    "df = pd.read_csv('http://www.stat.wisc.edu/~jgillett/451/data/mtcars.csv')\n",
    "df_new = df[df['Unnamed: 0'] != 'Toyota Corona']\n",
    "df_new = df_new[df_new['Unnamed: 0'] != 'Maserati Bora']\n",
    "\n",
    "X = np.array(df_new.loc[:,['wt','mpg']])\n",
    "y = np.array(df_new[\"am\"])\n",
    "\n",
    "\n",
    "clf = svm.SVC(kernel=\"linear\", C=1000)\n",
    "clf.fit(X, y)\n",
    "\n",
    "w1 = clf.coef_[0,0]\n",
    "w2 = clf.coef_[0,1]\n",
    "b = clf.intercept_[0]\n",
    "\n",
    "print(f'The decision boundary is {w1:.3} * weight + {w2:.3} * mileage + {b:.3} = 0.')\n",
    "print(f'The training accuracy is {clf.score(X, y)}.')\n",
    "\n",
    "y_predict = clf.predict([[4,20]])\n",
    "print(f'We predict that a car weighing 4 thousand pounds that gets 20 mpg has transmission type {y_predict[0]} (where 0=automatic, 1=manual).')\n",
    "\n",
    "# plot the data\n",
    "\n",
    "plt.scatter(x=X[y>0][:, 0], y=X[y>0][:, 1], c=\"b\", cmap=plt.cm.Paired, label='manual', s=10)\n",
    "plt.scatter(x=X[y==0][:, 0], y=X[y==0][:, 1], c=\"r\", cmap=plt.cm.Paired, label='automatic', s=10)\n",
    "\n",
    "plt.xlim(0, 6)\n",
    "plt.ylim(0, 35)\n",
    "\n",
    "plt.title('SVM to guess transmission from car weight and mileage')\n",
    "plt.xlabel('weight (1000s of pounds)')\n",
    "plt.ylabel('gas mileage (miles per gallons)')\n",
    "\n",
    "# add the decision boundary and margin boundaries\n",
    "x1 = X[:, 0]\n",
    "x2 = -(clf.coef_[0][0] * x1 + clf.intercept_) / clf.coef_[0][1]\n",
    "plt.plot(x1, x2, label=r'decision boundary $\\mathbf{wx} + b = 0$')\n",
    "plt.plot(x1, x2 + 1 / clf.coef_[0][1], ':', label=r'+1 support $\\mathbf{wx} + b =  1$')\n",
    "plt.plot(x1, x2 - 1 / clf.coef_[0][1], ':', label=r'+1 support $\\mathbf{wx} + b = -1$')\n",
    "\n",
    "plt.legend()\n",
    "plt.show(block=False)"
   ]
  },
  {
   "cell_type": "markdown",
   "id": "f29aa3b0",
   "metadata": {},
   "source": [
    "# 2 Make two linear regression models:\n",
    "one to estimate the average daily trading volume of a Dow Jones Industrial Average stock from its market capitalization; and the other to estimate the same volume from both market capitalization and price.\n",
    "\n",
    "## 2a Make a simple linear regression model\n",
    "of $y = $ AvgVol vs. $x =$ MarketCap.\n",
    "- Read [http://www.stat.wisc.edu/~jgillett/451/data/DJIA.csv](http://www.stat.wisc.edu/~jgillett/451/data/DJIA.csv) into a DataFrame.\n",
    "- Find the model. Print its equation.\n",
    "- Print its $R^2$ value (the proportion of variability in $y$ accounted for by $x$ via the linear model, given by model.score(X, y)).\n",
    "- Use the model to predict the volume for a company with market capitalization of 0.25e12 (a quarter-trillion dollars); add this as a red point on your plot."
   ]
  },
  {
   "cell_type": "code",
   "execution_count": 63,
   "id": "f8f92ada",
   "metadata": {},
   "outputs": [
    {
     "name": "stdout",
     "output_type": "stream",
     "text": [
      "The model is Volume = 2.68e-05 * (Market Capitalization) + 3.41e+06.\n",
      "R^2 is 0.705.\n",
      "We predict a Volume of 1.01e+07 for a company with Market Capitalization 2.5e+11 (see red dot).\n"
     ]
    },
    {
     "data": {
      "text/plain": [
       "[<matplotlib.lines.Line2D at 0x7fc8c60eef90>]"
      ]
     },
     "execution_count": 63,
     "metadata": {},
     "output_type": "execute_result"
    },
    {
     "data": {
      "image/png": "[encoded data removed]",
      "text/plain": [
       "<Figure size 432x288 with 1 Axes>"
      ]
     },
     "metadata": {
      "needs_background": "light"
     },
     "output_type": "display_data"
    }
   ],
   "source": [
    "data = pd.read_csv('http://www.stat.wisc.edu/~jgillett/451/data/DJIA.csv')\n",
    "x = data['MarketCap'].to_numpy()\n",
    "X = x.copy()\n",
    "nrows = X.shape[0]\n",
    "X.shape = (nrows, 1)\n",
    "\n",
    "y = data['AvgVol'].to_numpy()\n",
    "\n",
    "model = linear_model.LinearRegression()\n",
    "model.fit(X, y)\n",
    "b = model.intercept_\n",
    "w = model.coef_[0]\n",
    "print(f'The model is Volume = {w:.3} * (Market Capitalization) + {b:.3}.')\n",
    "\n",
    "print(f'R^2 is {model.score(X, y):.3}.')\n",
    "\n",
    "predict_volume = 0.25e12 * w + b\n",
    "print(f'We predict a Volume of {predict_volume:.3} for a company with Market Capitalization 2.5e+11 (see red dot).')\n",
    "\n",
    "#plot data\n",
    "y_hat = model.predict(X)\n",
    "plt.plot(X, y, '.', color='black')\n",
    "plt.title('DJIA: Volume vs. Capitalization')\n",
    "plt.xlabel('Market Capitalization')\n",
    "plt.ylabel('Average Daily Trading Volume')\n",
    "plt.xlim(0, 2900000000000)\n",
    "plt.ylim(0, 110000000)\n",
    "\n",
    "plt.plot(x, y_hat, color='black',\n",
    "         label=f'$\\\\hat{{y}}=${round(b, 2)} + ({round(w, 2)})$x$')\n",
    "\n",
    "plt.plot(0.25e12, predict_volume, '.', color='red')"
   ]
  },
  {
   "cell_type": "markdown",
   "id": "a71c8e10",
   "metadata": {},
   "source": [
    "## 2b Make a multiple linear regression model\n",
    "of $y =$ AvgVol vs. $x_1 =$ MarketCap and $x_2 =$ Price.\n",
    "- Find the model.\n",
    "- Print its equation.\n",
    "- Print its $R^2$ value."
   ]
  },
  {
   "cell_type": "code",
   "execution_count": 61,
   "id": "931fe6cf",
   "metadata": {},
   "outputs": [
    {
     "name": "stdout",
     "output_type": "stream",
     "text": [
      "The model is Volume = 2.89e-05 * (Market Capitalization) + -6.69e+04 * Price + 1.44e+07.\n",
      "R^2 is 0.823.\n"
     ]
    }
   ],
   "source": [
    "X = data[['MarketCap', 'Price']].to_numpy()\n",
    "y = data['AvgVol'].to_numpy()\n",
    "model.fit(X, y)\n",
    "print(f'The model is Volume = {model.coef_[0]:.3} * (Market Capitalization) + {model.coef_[1]:.3} * Price + {model.intercept_:.3}.')\n",
    "print(f'R^2 is {model.score(X, y):.3}.')"
   ]
  },
  {
   "cell_type": "markdown",
   "id": "04c30f03",
   "metadata": {},
   "source": [
    "## 3 Make a logistic regression model\n",
    "relating the probability an iris has Species='virginica' to its 'Petal.Length'\n",
    "and classifying irises as 'virginica' or not 'virginica' (i.e. 'versicolor').\n",
    "- Read [http://www.stat.wisc.edu/~jgillett/451/data/iris.csv](http://www.stat.wisc.edu/~jgillett/451/data/iris.csv) into a DataFrame.\n",
    "- Make a second data frame that excludes the 'setosa' rows (leaving the 'virginica' and 'versicolor' rows) and includes only the Petal.Length and Species columns.\n",
    "- Set a variable X to a 100x1 array of Petal.Length values.\n",
    "- Set a variable y to an array indicating whether the Species is 'virginica'.\n",
    "  (I used \"y = (df['Species'] == 'virginica').to_numpy().astype(int)\",\n",
    "  which sets y to zeros and ones.)\n",
    "- Run \"X_train, X_test, y_train, y_test = train_test_split(X, y, random_state=0)\" to\n",
    "  set the four arrays on the left to subsets of 75% of the data for training and 25%\n",
    "  for testing.\n",
    "- Train the model on the training examples.\n",
    "- Report its accuracy on the training examples and its accuracy on the test examples.\n",
    "- Report the estimated P(Species=virginica | Petal.Length=5).\n",
    "- Make a plot showing the training data and estimated logistic curve."
   ]
  },
  {
   "cell_type": "code",
   "execution_count": 283,
   "id": "175db961",
   "metadata": {},
   "outputs": [
    {
     "name": "stdout",
     "output_type": "stream",
     "text": [
      "The model is P(Species= \"virginica\" | x) = f(x) = 1 / (1 + exp(-(3.35*x + -16.2)))\n",
      "Training accuracy=0.947, test accuracy=0.88.\n",
      "Estimated P(Species=virginica | Petal.Length=5)=0.636.\n"
     ]
    },
    {
     "data": {
      "text/plain": [
       "[<matplotlib.lines.Line2D at 0x7fc8c85c4590>]"
      ]
     },
     "execution_count": 283,
     "metadata": {},
     "output_type": "execute_result"
    },
    {
     "data": {
      "image/png": "[encoded data removed]",
      "text/plain": [
       "<Figure size 432x288 with 1 Axes>"
      ]
     },
     "metadata": {
      "needs_background": "light"
     },
     "output_type": "display_data"
    }
   ],
   "source": [
    "df = pd.read_csv('http://www.stat.wisc.edu/~jgillett/451/data/iris.csv')\n",
    "df_new = df[df['Species'] != 'setosa']\n",
    "df_new = df_new[['Petal.Length', 'Species']]\n",
    "x = df_new['Petal.Length'].to_numpy()\n",
    "X = x.copy()\n",
    "nrows = X.shape[0]\n",
    "X.shape = (nrows, 1)\n",
    "\n",
    "y = (df_new['Species'] == 'virginica').to_numpy().astype(int)\n",
    "\n",
    "X_train, X_test, y_train, y_test = train_test_split(X, y, random_state=0)\n",
    "\n",
    "model = linear_model.LogisticRegression()\n",
    "model.fit(X_train, y_train)\n",
    "b = model.intercept_\n",
    "w = model.coef_[0]\n",
    "\n",
    "print(f'The model is P(Species= \"virginica\" | x) = f(x) = 1 / (1 + exp(-({w[0]:.3}*x + {b[0]:.3})))')\n",
    "print(f'Training accuracy={model.score(X_train, y_train):.3}, test accuracy={model.score(X_test, y_test)}.')\n",
    "\n",
    "predict = 1 / (1 + np.exp(-(w[0]*5 + b[0])))\n",
    "print(f'Estimated P(Species=virginica | Petal.Length=5)={predict:.3}.')\n",
    "\n",
    "# plot data\n",
    "low = 2\n",
    "high = 8\n",
    "plt.plot(X, y, '.', color = 'blue')\n",
    "plt.xlim(low, high)\n",
    "margin = 0.1\n",
    "plt.ylim(0 - margin, 1 + margin)\n",
    "plt.title('Proportions of irises that are virginica')\n",
    "plt.xlabel('Petal length')\n",
    "plt.ylabel('proportion')\n",
    "plt.xlim(low, high)\n",
    "\n",
    "#plot curve\n",
    "xplot = np.linspace(start=low, stop=high)\n",
    "yplot = 1 / (1 + np.exp(-(w * xplot + b)))\n",
    "plt.plot(xplot, yplot, color = 'orange', label='logistic curve')"
   ]
  },
  {
   "cell_type": "code",
   "execution_count": null,
   "id": "b4af1689",
   "metadata": {},
   "outputs": [],
   "source": []
  }
 ],
 "metadata": {
  "celltoolbar": "Tags",
  "kernelspec": {
   "display_name": "Python 3 (ipykernel)",
   "language": "python",
   "name": "python3"
  },
  "language_info": {
   "codemirror_mode": {
    "name": "ipython",
    "version": 3
   },
   "file_extension": ".py",
   "mimetype": "text/x-python",
   "name": "python",
   "nbconvert_exporter": "python",
   "pygments_lexer": "ipython3",
   "version": "3.7.4"
  }
 },
 "nbformat": 4,
 "nbformat_minor": 5
}
